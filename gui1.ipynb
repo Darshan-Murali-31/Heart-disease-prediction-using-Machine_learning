{
 "cells": [
  {
   "cell_type": "code",
   "execution_count": 7,
   "metadata": {},
   "outputs": [],
   "source": [
    "import tkinter as tk\n",
    "from tkinter import Label, Entry, Button, messagebox\n",
    "import pandas as pd\n",
    "import joblib\n",
    "\n",
    "# Load the trained model (replace with your actual model)\n",
    "model = joblib.load('heast_disease_prediction.pkl')\n",
    "\n",
    "# Create the main application window\n",
    "app = tk.Tk()\n",
    "app.title(\"Heart Disease Prediction\")\n",
    "\n",
    "# Function to make a prediction\n",
    "def predict_heart_disease():\n",
    "    try:\n",
    "        # Get user inputs\n",
    "        inputs = [float(entry.get()) for entry in input_entries]\n",
    "        \n",
    "        # Create a DataFrame with the user input\n",
    "        data = pd.DataFrame([inputs], columns=fields)\n",
    "        \n",
    "        # Make a prediction using the loaded model\n",
    "        prediction = model.predict(data)\n",
    "        \n",
    "        # Display the prediction result\n",
    "        if prediction[0] == 1:\n",
    "            result_label.config(text=\"You may have heart disease.\")\n",
    "        else:\n",
    "            result_label.config(text=\"You may not have heart disease.\")\n",
    "    except ValueError:\n",
    "        messagebox.showerror(\"Error\", \"Please enter valid numerical values for all fields.\")\n",
    "\n",
    "# Create GUI elements\n",
    "fields = [\n",
    "    \"Age\", \"Sex (0 for female, 1 for male)\", \"Chest Pain Type\", \"Resting Blood Pressure\",\n",
    "    \"Cholesterol Level\", \"Fasting Blood Sugar (0 for <120 mg/dl, 1 for >120 mg/dl)\",\n",
    "    \"Resting Electrocardiographic Results\", \"Maximum Heart Rate Achieved\",\n",
    "    \"Exercise-Induced Angina (0 for no, 1 for yes)\", \"ST Depression Induced by Exercise Relative to Rest\",\n",
    "    \"Slope of the Peak Exercise ST Segment\", \"Number of Major Vessels Colored by Flourosopy (0-3)\",\n",
    "    \"Thalassemia (3 = normal, 6 = fixed defect, 7 = reversable defect)\",\"Target\"\n",
    "]\n",
    "\n",
    "input_entries = []\n",
    "\n",
    "for field in fields:\n",
    "    row = tk.Frame(app)\n",
    "    row.pack(side=tk.TOP, fill=tk.X, padx=5, pady=5)\n",
    "    lab = Label(row, width=35, text=field + \": \", anchor='w')\n",
    "    ent = Entry(row)\n",
    "    row.pack(side=tk.TOP, fill=tk.X, padx=5, pady=5)\n",
    "    lab.pack(side=tk.LEFT)\n",
    "    ent.pack(side=tk.RIGHT, expand=tk.YES, fill=tk.X)\n",
    "    input_entries.append(ent)\n",
    "\n",
    "result_label = Label(app, text=\"\")\n",
    "result_label.pack()\n",
    "\n",
    "predict_button = Button(app, text=\"Predict Heart Disease\", command=predict_heart_disease)\n",
    "predict_button.pack()\n",
    "\n",
    "app.mainloop()\n"
   ]
  },
  {
   "cell_type": "code",
   "execution_count": null,
   "metadata": {},
   "outputs": [],
   "source": []
  },
  {
   "cell_type": "code",
   "execution_count": null,
   "metadata": {},
   "outputs": [],
   "source": []
  }
 ],
 "metadata": {
  "kernelspec": {
   "display_name": "Python 3",
   "language": "python",
   "name": "python3"
  },
  "language_info": {
   "codemirror_mode": {
    "name": "ipython",
    "version": 3
   },
   "file_extension": ".py",
   "mimetype": "text/x-python",
   "name": "python",
   "nbconvert_exporter": "python",
   "pygments_lexer": "ipython3",
   "version": "3.11.5"
  },
  "orig_nbformat": 4
 },
 "nbformat": 4,
 "nbformat_minor": 2
}
